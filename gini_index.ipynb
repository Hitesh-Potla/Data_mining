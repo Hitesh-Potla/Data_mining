{
 "cells": [
  {
   "cell_type": "code",
   "execution_count": 1,
   "id": "cfdd1036-d067-4982-bedc-bd17b017524c",
   "metadata": {},
   "outputs": [],
   "source": [
    "import pandas as pd\n",
    "import numpy as np\n",
    "import math"
   ]
  },
  {
   "cell_type": "code",
   "execution_count": 2,
   "id": "610e68ff-e40e-485a-967e-a90b802930ae",
   "metadata": {},
   "outputs": [],
   "source": [
    "df=pd.read_csv('play_tennis.csv')"
   ]
  },
  {
   "cell_type": "code",
   "execution_count": 3,
   "id": "8d575f17-dfe6-415f-ac44-516fc136a590",
   "metadata": {},
   "outputs": [],
   "source": [
    "def calculate_entropy(column,df):\n",
    "    entropy=0\n",
    "    rows=len(df[column])\n",
    "    uniq_list=df[column].unique()\n",
    "    for i in uniq_list:\n",
    "        count=0\n",
    "        for j in df[column]:\n",
    "            if(i==j):\n",
    "                count=count+1\n",
    "        entropy=entropy-((count/rows)*math.log2((count/rows)))\n",
    "    return round(entropy,3)"
   ]
  },
  {
   "cell_type": "code",
   "execution_count": 4,
   "id": "d0a0b3ca-526c-400a-8425-4bf7b0137681",
   "metadata": {},
   "outputs": [],
   "source": [
    "def calculate_information_gain(column,target):\n",
    "    gain=calculate_entropy(target,df)\n",
    "    rows=len(df[column])\n",
    "    for i in df[column].unique():\n",
    "        sample_df = df[df[column] == i]\n",
    "        gain=gain-((len(sample_df[column]))/rows)*calculate_entropy(target,sample_df)\n",
    "    return round(gain,3)"
   ]
  },
  {
   "cell_type": "code",
   "execution_count": 5,
   "id": "3c2b8cd9-0b28-4a18-ace3-69b84413cd17",
   "metadata": {},
   "outputs": [],
   "source": [
    "def calculate_split_information(column,df):\n",
    "    split_information=0\n",
    "    rows=len(df[column])\n",
    "    uniq_list=df[column].unique()\n",
    "    for i in uniq_list:\n",
    "        count=0\n",
    "        for j in df[column]:\n",
    "            if(i==j):\n",
    "                count=count+1\n",
    "        split_information=split_information-((count/rows)*math.log2((count/rows)))\n",
    "    return round(split_information,3)"
   ]
  },
  {
   "cell_type": "code",
   "execution_count": 6,
   "id": "cfc7ab82-51b9-4c5c-af13-4fed1eaebaf4",
   "metadata": {},
   "outputs": [
    {
     "name": "stdout",
     "output_type": "stream",
     "text": [
      "Gain Ratio: 0.048730964467005075\n"
     ]
    }
   ],
   "source": [
    "information_gain=calculate_information_gain('Wind','PlayTennis')\n",
    "split_information=calculate_split_information('Wind',df)\n",
    "gain_ratio=information_gain/split_information\n",
    "print(\"Gain Ratio:\",gain_ratio)"
   ]
  },
  {
   "cell_type": "code",
   "execution_count": 24,
   "id": "20ccbeef-1ed6-418a-9e86-90ff4eba2202",
   "metadata": {},
   "outputs": [],
   "source": [
    "def calculate_gini(column,df):\n",
    "    rows=len(df[column])\n",
    "    gini=1\n",
    "    for i in df[column].unique():\n",
    "        count=0\n",
    "        for j in df[column]:\n",
    "            if(i==j):\n",
    "                count=count+1\n",
    "        gini=gini-(count/rows)**2\n",
    "    return round(gini,4)"
   ]
  },
  {
   "cell_type": "code",
   "execution_count": 25,
   "id": "69a1a237-02eb-4882-bdea-9134e59f7ffa",
   "metadata": {},
   "outputs": [],
   "source": [
    "def calculate_gini_index(column,df):\n",
    "    target='PlayTennis'\n",
    "    gini_index=0\n",
    "    rows=len(df[column])\n",
    "    for i in df[column].unique():\n",
    "        sample_df = df[df[column] == i]\n",
    "        count=0\n",
    "        for j in df[column]:\n",
    "            if(i==j):\n",
    "                count=count+1\n",
    "        gini_index=gini_index+(count)/rows * calculate_gini(target,sample_df)\n",
    "    return round(gini_index,4)"
   ]
  },
  {
   "cell_type": "code",
   "execution_count": 26,
   "id": "84dc93b0-df25-4ff6-86bd-e009bec18924",
   "metadata": {},
   "outputs": [
    {
     "data": {
      "text/plain": [
       "0.4286"
      ]
     },
     "execution_count": 26,
     "metadata": {},
     "output_type": "execute_result"
    }
   ],
   "source": [
    "calculate_gini_index('Wind',df)"
   ]
  },
  {
   "cell_type": "code",
   "execution_count": null,
   "id": "146f998a-c352-4252-be7d-5ced9e92476a",
   "metadata": {},
   "outputs": [],
   "source": []
  }
 ],
 "metadata": {
  "kernelspec": {
   "display_name": "Python 3 (ipykernel)",
   "language": "python",
   "name": "python3"
  },
  "language_info": {
   "codemirror_mode": {
    "name": "ipython",
    "version": 3
   },
   "file_extension": ".py",
   "mimetype": "text/x-python",
   "name": "python",
   "nbconvert_exporter": "python",
   "pygments_lexer": "ipython3",
   "version": "3.12.4"
  }
 },
 "nbformat": 4,
 "nbformat_minor": 5
}
