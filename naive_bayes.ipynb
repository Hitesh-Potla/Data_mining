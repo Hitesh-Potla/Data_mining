{
 "cells": [
  {
   "cell_type": "code",
   "execution_count": 5,
   "id": "00897e6d-3c56-409c-be4f-777eedf070ba",
   "metadata": {},
   "outputs": [],
   "source": [
    "import pandas as pd\n",
    "import numpy as np\n",
    "import math"
   ]
  },
  {
   "cell_type": "code",
   "execution_count": 6,
   "id": "e530c94e-5b24-463e-bf9a-32cff3323f6d",
   "metadata": {},
   "outputs": [],
   "source": [
    "df=pd.read_csv('play_tennis.csv')"
   ]
  },
  {
   "cell_type": "code",
   "execution_count": 7,
   "id": "7ff18c42-4e4c-4a2c-9de6-0897d9b871b1",
   "metadata": {
    "scrolled": true
   },
   "outputs": [],
   "source": [
    "df.drop('Day',axis=1,inplace=True)"
   ]
  },
  {
   "cell_type": "code",
   "execution_count": 8,
   "id": "f942e5ac-09a1-4841-b603-bc087011a9e4",
   "metadata": {},
   "outputs": [],
   "source": [
    "count_list=df['PlayTennis'].value_counts().to_dict()"
   ]
  },
  {
   "cell_type": "code",
   "execution_count": 9,
   "id": "737c325c-c3c5-47d6-b2ec-3de136896549",
   "metadata": {},
   "outputs": [
    {
     "data": {
      "text/plain": [
       "{'Yes': 9, 'No': 5}"
      ]
     },
     "execution_count": 9,
     "metadata": {},
     "output_type": "execute_result"
    }
   ],
   "source": [
    "count_list"
   ]
  },
  {
   "cell_type": "code",
   "execution_count": 10,
   "id": "11cc7bd8-2739-42e7-a1f8-35d6ffacde47",
   "metadata": {},
   "outputs": [
    {
     "data": {
      "text/plain": [
       "2"
      ]
     },
     "execution_count": 10,
     "metadata": {},
     "output_type": "execute_result"
    }
   ],
   "source": [
    "len(df[(df['Outlook']=='Sunny') & (df['PlayTennis']=='Yes')])"
   ]
  },
  {
   "cell_type": "code",
   "execution_count": 11,
   "id": "f9ab94ba-38bb-4661-a327-0e4d7d27ead1",
   "metadata": {},
   "outputs": [
    {
     "name": "stdin",
     "output_type": "stream",
     "text": [
      "1 Enter an attribute Sunny\n",
      "2 Enter an attribute Cool\n",
      "3 Enter an attribute High\n",
      "4 Enter an attribute Strong\n"
     ]
    }
   ],
   "source": [
    "input_list=[]\n",
    "for i in range(len(df.columns)-1):\n",
    "    s=input(f'{i+1} Enter an attribute')\n",
    "    input_list.append(s)"
   ]
  },
  {
   "cell_type": "code",
   "execution_count": 12,
   "id": "038c5a16-fb48-4cc2-8b4f-ce1608c3e63c",
   "metadata": {},
   "outputs": [
    {
     "data": {
      "text/plain": [
       "['Sunny', 'Cool', 'High', 'Strong']"
      ]
     },
     "execution_count": 12,
     "metadata": {},
     "output_type": "execute_result"
    }
   ],
   "source": [
    "input_list"
   ]
  },
  {
   "cell_type": "code",
   "execution_count": 13,
   "id": "e544a538-077e-4a26-8f21-576ff0cef189",
   "metadata": {},
   "outputs": [
    {
     "data": {
      "text/plain": [
       "Index(['Outlook', 'Temp', 'Humidity', 'Wind', 'PlayTennis'], dtype='object')"
      ]
     },
     "execution_count": 13,
     "metadata": {},
     "output_type": "execute_result"
    }
   ],
   "source": [
    "df.columns"
   ]
  },
  {
   "cell_type": "code",
   "execution_count": 14,
   "id": "9758fd67-ae9a-4b8b-b58e-b5d3dee47c36",
   "metadata": {},
   "outputs": [],
   "source": [
    "dictt={}\n",
    "for i in range(len(df['PlayTennis'].unique())):\n",
    "    dictt[df['PlayTennis'].unique()[i]]=count_list[df['PlayTennis'].unique()[i]]/len(df)\n",
    "    for j in range(len(input_list)):\n",
    "        dictt[df['PlayTennis'].unique()[i]] = dictt[df['PlayTennis'].unique()[i]] * (\n",
    "            len(df[(df[df.columns[j]] == input_list[j]) & (df['PlayTennis'] == df['PlayTennis'].unique()[i])]) / count_list[df['PlayTennis'].unique()[i]]\n",
    "        )"
   ]
  },
  {
   "cell_type": "code",
   "execution_count": 17,
   "id": "571fec91-fb1f-458b-9155-03941af5828b",
   "metadata": {},
   "outputs": [
    {
     "name": "stdout",
     "output_type": "stream",
     "text": [
      "No\n"
     ]
    }
   ],
   "source": [
    "max_key = max(dictt, key=dictt.get)\n",
    "print(max_key)"
   ]
  },
  {
   "cell_type": "code",
   "execution_count": null,
   "id": "b02a2e34-409c-4c78-8d7e-915bf8d60608",
   "metadata": {},
   "outputs": [],
   "source": []
  }
 ],
 "metadata": {
  "kernelspec": {
   "display_name": "Python 3 (ipykernel)",
   "language": "python",
   "name": "python3"
  },
  "language_info": {
   "codemirror_mode": {
    "name": "ipython",
    "version": 3
   },
   "file_extension": ".py",
   "mimetype": "text/x-python",
   "name": "python",
   "nbconvert_exporter": "python",
   "pygments_lexer": "ipython3",
   "version": "3.12.4"
  }
 },
 "nbformat": 4,
 "nbformat_minor": 5
}
